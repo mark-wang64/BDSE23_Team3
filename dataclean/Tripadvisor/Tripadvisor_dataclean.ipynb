{
 "cells": [
  {
   "cell_type": "markdown",
   "id": "765eca57-1710-49ae-a42f-b4231806643f",
   "metadata": {},
   "source": [
    "#### CSV檔合併"
   ]
  },
  {
   "cell_type": "code",
   "execution_count": 1,
   "id": "7f4aa24e-8a3d-40f7-9f11-551fec8a9786",
   "metadata": {},
   "outputs": [
    {
     "name": "stdin",
     "output_type": "stream",
     "text": [
      " C:\\Users\\USER\\Desktop\\Big data\\NLP\\dataset\\Database\\Trip\\\n"
     ]
    }
   ],
   "source": [
    "import pandas as pd\n",
    "from glob import glob\n",
    "import os\n",
    "\n",
    "\n",
    "path=input()\n",
    "file_list = glob(path+r\"\\*\\*\\*.csv\")\n",
    "appended_data = []\n",
    "for i in file_list:\n",
    "    file_size = os.path.getsize(i) \n",
    "    if file_size < 948:\n",
    "        continue\n",
    "    city = i.split(\"\\\\\")[-2]\n",
    "    country = i.split(\"\\\\\")[-3]\n",
    "    data = pd.read_csv(i, dtype=str, on_bad_lines='skip', sep=\",\", index_col=None, encoding=\"utf-8\")\n",
    "    # store DataFrame in list\n",
    "    data[\"Hotel_City\"] = city\n",
    "    data[\"Country\"] = country\n",
    "    appended_data.append(data)\n",
    "# see pd.concat documentation for more info\n",
    "appended_data = pd.concat(appended_data, ignore_index=True)"
   ]
  },
  {
   "cell_type": "code",
   "execution_count": 2,
   "id": "440366bb-1d25-4dd4-a357-356478d36b6b",
   "metadata": {},
   "outputs": [],
   "source": [
    "appended_data.to_csv(\"trip_unclean.csv\", index=False)"
   ]
  },
  {
   "cell_type": "code",
   "execution_count": 3,
   "id": "915d3dd5-73c2-4fc1-946e-a0ddbeffe0ed",
   "metadata": {},
   "outputs": [
    {
     "data": {
      "text/html": [
       "<div>\n",
       "<style scoped>\n",
       "    .dataframe tbody tr th:only-of-type {\n",
       "        vertical-align: middle;\n",
       "    }\n",
       "\n",
       "    .dataframe tbody tr th {\n",
       "        vertical-align: top;\n",
       "    }\n",
       "\n",
       "    .dataframe thead th {\n",
       "        text-align: right;\n",
       "    }\n",
       "</style>\n",
       "<table border=\"1\" class=\"dataframe\">\n",
       "  <thead>\n",
       "    <tr style=\"text-align: right;\">\n",
       "      <th></th>\n",
       "      <th>Hotel Name</th>\n",
       "      <th>total rating</th>\n",
       "      <th>Review Date</th>\n",
       "      <th>Stay Date</th>\n",
       "      <th>Trip Type</th>\n",
       "      <th>Language</th>\n",
       "      <th>Room Tip</th>\n",
       "      <th>Review Title</th>\n",
       "      <th>Review Rating</th>\n",
       "      <th>Review Text</th>\n",
       "      <th>...</th>\n",
       "      <th>[Business service (e.g., internet access) Stars</th>\n",
       "      <th>Hotel_City</th>\n",
       "      <th>Country</th>\n",
       "      <th>網址</th>\n",
       "      <th>[ur_question.prompt.47 Stars</th>\n",
       "      <th>[ur_question.prompt.14 Stars</th>\n",
       "      <th>[rd_userrating.prompt.12 Stars</th>\n",
       "      <th>[ur_question.prompt.11 Stars</th>\n",
       "      <th>[userrating.prompt.190 Stars</th>\n",
       "      <th>[ur_question.prompt.13 Stars</th>\n",
       "    </tr>\n",
       "  </thead>\n",
       "  <tbody>\n",
       "    <tr>\n",
       "      <th>0</th>\n",
       "      <td>Delfino Blu Wellness Boutique Hotel</td>\n",
       "      <td>5.0</td>\n",
       "      <td>2021-10-03</td>\n",
       "      <td>2021-09-30</td>\n",
       "      <td>COUPLES</td>\n",
       "      <td>en</td>\n",
       "      <td>We would advise having a rental car to explore...</td>\n",
       "      <td>A small slice of paradise</td>\n",
       "      <td>5</td>\n",
       "      <td>We stayed for 7 nights at the end of September...</td>\n",
       "      <td>...</td>\n",
       "      <td>NaN</td>\n",
       "      <td>Dhermi</td>\n",
       "      <td>Albania</td>\n",
       "      <td>NaN</td>\n",
       "      <td>NaN</td>\n",
       "      <td>NaN</td>\n",
       "      <td>NaN</td>\n",
       "      <td>NaN</td>\n",
       "      <td>NaN</td>\n",
       "      <td>NaN</td>\n",
       "    </tr>\n",
       "    <tr>\n",
       "      <th>1</th>\n",
       "      <td>Delfino Blu Wellness Boutique Hotel</td>\n",
       "      <td>5.0</td>\n",
       "      <td>2021-09-29</td>\n",
       "      <td>2021-09-30</td>\n",
       "      <td>NONE</td>\n",
       "      <td>en</td>\n",
       "      <td>NaN</td>\n",
       "      <td>A truly wonderful experience</td>\n",
       "      <td>5</td>\n",
       "      <td>We were looking for a relaxing week in the sun...</td>\n",
       "      <td>...</td>\n",
       "      <td>NaN</td>\n",
       "      <td>Dhermi</td>\n",
       "      <td>Albania</td>\n",
       "      <td>NaN</td>\n",
       "      <td>NaN</td>\n",
       "      <td>NaN</td>\n",
       "      <td>NaN</td>\n",
       "      <td>NaN</td>\n",
       "      <td>NaN</td>\n",
       "      <td>NaN</td>\n",
       "    </tr>\n",
       "    <tr>\n",
       "      <th>2</th>\n",
       "      <td>Delfino Blu Wellness Boutique Hotel</td>\n",
       "      <td>5.0</td>\n",
       "      <td>2021-09-12</td>\n",
       "      <td>2021-08-31</td>\n",
       "      <td>COUPLES</td>\n",
       "      <td>en</td>\n",
       "      <td>NaN</td>\n",
       "      <td>Great Boutique Experience</td>\n",
       "      <td>5</td>\n",
       "      <td>We had been considering a trip here for some t...</td>\n",
       "      <td>...</td>\n",
       "      <td>NaN</td>\n",
       "      <td>Dhermi</td>\n",
       "      <td>Albania</td>\n",
       "      <td>NaN</td>\n",
       "      <td>NaN</td>\n",
       "      <td>NaN</td>\n",
       "      <td>NaN</td>\n",
       "      <td>NaN</td>\n",
       "      <td>NaN</td>\n",
       "      <td>NaN</td>\n",
       "    </tr>\n",
       "    <tr>\n",
       "      <th>3</th>\n",
       "      <td>Delfino Blu Wellness Boutique Hotel</td>\n",
       "      <td>5.0</td>\n",
       "      <td>2021-08-31</td>\n",
       "      <td>2021-08-31</td>\n",
       "      <td>NONE</td>\n",
       "      <td>en</td>\n",
       "      <td>NaN</td>\n",
       "      <td>Felt truly looked after in welcoming boutique ...</td>\n",
       "      <td>5</td>\n",
       "      <td>The wonderful staff team quickly get to know a...</td>\n",
       "      <td>...</td>\n",
       "      <td>NaN</td>\n",
       "      <td>Dhermi</td>\n",
       "      <td>Albania</td>\n",
       "      <td>NaN</td>\n",
       "      <td>NaN</td>\n",
       "      <td>NaN</td>\n",
       "      <td>NaN</td>\n",
       "      <td>NaN</td>\n",
       "      <td>NaN</td>\n",
       "      <td>NaN</td>\n",
       "    </tr>\n",
       "    <tr>\n",
       "      <th>4</th>\n",
       "      <td>Delfino Blu Wellness Boutique Hotel</td>\n",
       "      <td>5.0</td>\n",
       "      <td>2021-08-23</td>\n",
       "      <td>2021-08-31</td>\n",
       "      <td>COUPLES</td>\n",
       "      <td>en</td>\n",
       "      <td>NaN</td>\n",
       "      <td>Ultimate relaxation at beautiful Delfino Blu</td>\n",
       "      <td>5</td>\n",
       "      <td>We just LOVED Delfino Blu, a little bit of Cor...</td>\n",
       "      <td>...</td>\n",
       "      <td>NaN</td>\n",
       "      <td>Dhermi</td>\n",
       "      <td>Albania</td>\n",
       "      <td>NaN</td>\n",
       "      <td>NaN</td>\n",
       "      <td>NaN</td>\n",
       "      <td>NaN</td>\n",
       "      <td>NaN</td>\n",
       "      <td>NaN</td>\n",
       "      <td>NaN</td>\n",
       "    </tr>\n",
       "  </tbody>\n",
       "</table>\n",
       "<p>5 rows × 29 columns</p>\n",
       "</div>"
      ],
      "text/plain": [
       "                            Hotel Name total rating Review Date   Stay Date  \\\n",
       "0  Delfino Blu Wellness Boutique Hotel          5.0  2021-10-03  2021-09-30   \n",
       "1  Delfino Blu Wellness Boutique Hotel          5.0  2021-09-29  2021-09-30   \n",
       "2  Delfino Blu Wellness Boutique Hotel          5.0  2021-09-12  2021-08-31   \n",
       "3  Delfino Blu Wellness Boutique Hotel          5.0  2021-08-31  2021-08-31   \n",
       "4  Delfino Blu Wellness Boutique Hotel          5.0  2021-08-23  2021-08-31   \n",
       "\n",
       "  Trip Type Language                                           Room Tip  \\\n",
       "0   COUPLES       en  We would advise having a rental car to explore...   \n",
       "1      NONE       en                                                NaN   \n",
       "2   COUPLES       en                                                NaN   \n",
       "3      NONE       en                                                NaN   \n",
       "4   COUPLES       en                                                NaN   \n",
       "\n",
       "                                        Review Title Review Rating  \\\n",
       "0                          A small slice of paradise             5   \n",
       "1                       A truly wonderful experience             5   \n",
       "2                          Great Boutique Experience             5   \n",
       "3  Felt truly looked after in welcoming boutique ...             5   \n",
       "4       Ultimate relaxation at beautiful Delfino Blu             5   \n",
       "\n",
       "                                         Review Text  ...  \\\n",
       "0  We stayed for 7 nights at the end of September...  ...   \n",
       "1  We were looking for a relaxing week in the sun...  ...   \n",
       "2  We had been considering a trip here for some t...  ...   \n",
       "3  The wonderful staff team quickly get to know a...  ...   \n",
       "4  We just LOVED Delfino Blu, a little bit of Cor...  ...   \n",
       "\n",
       "  [Business service (e.g., internet access) Stars Hotel_City  Country   網址  \\\n",
       "0                                             NaN     Dhermi  Albania  NaN   \n",
       "1                                             NaN     Dhermi  Albania  NaN   \n",
       "2                                             NaN     Dhermi  Albania  NaN   \n",
       "3                                             NaN     Dhermi  Albania  NaN   \n",
       "4                                             NaN     Dhermi  Albania  NaN   \n",
       "\n",
       "  [ur_question.prompt.47 Stars [ur_question.prompt.14 Stars  \\\n",
       "0                          NaN                          NaN   \n",
       "1                          NaN                          NaN   \n",
       "2                          NaN                          NaN   \n",
       "3                          NaN                          NaN   \n",
       "4                          NaN                          NaN   \n",
       "\n",
       "  [rd_userrating.prompt.12 Stars [ur_question.prompt.11 Stars  \\\n",
       "0                            NaN                          NaN   \n",
       "1                            NaN                          NaN   \n",
       "2                            NaN                          NaN   \n",
       "3                            NaN                          NaN   \n",
       "4                            NaN                          NaN   \n",
       "\n",
       "  [userrating.prompt.190 Stars [ur_question.prompt.13 Stars  \n",
       "0                          NaN                          NaN  \n",
       "1                          NaN                          NaN  \n",
       "2                          NaN                          NaN  \n",
       "3                          NaN                          NaN  \n",
       "4                          NaN                          NaN  \n",
       "\n",
       "[5 rows x 29 columns]"
      ]
     },
     "execution_count": 3,
     "metadata": {},
     "output_type": "execute_result"
    }
   ],
   "source": [
    "appended_data.head()"
   ]
  },
  {
   "cell_type": "markdown",
   "id": "85a01029-af20-402e-8082-2015677324a1",
   "metadata": {},
   "source": [
    "#### 國籍處理"
   ]
  },
  {
   "cell_type": "code",
   "execution_count": 4,
   "id": "07f0d5d0-47df-4af0-9209-430cbd67ca4f",
   "metadata": {},
   "outputs": [
    {
     "name": "stderr",
     "output_type": "stream",
     "text": [
      "C:\\Users\\USER\\.conda\\envs\\threeSeven\\lib\\site-packages\\IPython\\core\\interactiveshell.py:3457: DtypeWarning: Columns (1,22) have mixed types.Specify dtype option on import or set low_memory=False.\n",
      "  exec(code_obj, self.user_global_ns, self.user_ns)\n"
     ]
    }
   ],
   "source": [
    "import pandas as pd\n",
    "appended_data = pd.read_csv(\"trip_unclean.csv\")"
   ]
  },
  {
   "cell_type": "code",
   "execution_count": 5,
   "id": "f9cda676-917c-40ee-9344-65b75603a906",
   "metadata": {},
   "outputs": [
    {
     "data": {
      "text/plain": [
       "0                          Cambridge, United Kingdom\n",
       "1                                                NaN\n",
       "2                                                NaN\n",
       "3                                                NaN\n",
       "4                   Walton-On-Thames, United Kingdom\n",
       "                              ...                   \n",
       "10499287    East Riding of Yorkshire, United Kingdom\n",
       "10499288                                         NaN\n",
       "10499289                                         NaN\n",
       "10499290                  Hartlepool, United Kingdom\n",
       "10499291                                         NaN\n",
       "Name: Hometown, Length: 10499292, dtype: object"
      ]
     },
     "execution_count": 5,
     "metadata": {},
     "output_type": "execute_result"
    }
   ],
   "source": [
    "appended_data[\"Hometown\"]"
   ]
  },
  {
   "cell_type": "code",
   "execution_count": 6,
   "id": "85eeaf88-386c-403c-9daa-f78709d7ad4a",
   "metadata": {},
   "outputs": [],
   "source": [
    "# 取出國籍特徵\n",
    "import numpy as np\n",
    "def country_filt(x):\n",
    "    if isinstance(x, float) and np.isnan(x):\n",
    "        return x\n",
    "    elif isinstance(x, int):\n",
    "        return x\n",
    "    else:\n",
    "        return x.split(\",\")[-1].strip()\n",
    "    return x"
   ]
  },
  {
   "cell_type": "code",
   "execution_count": 7,
   "id": "2c2cbea0-2ecd-4b3f-a914-63db3068baa4",
   "metadata": {},
   "outputs": [],
   "source": [
    "appended_data[\"Hometown\"]=appended_data[\"Hometown\"].map(country_filt)"
   ]
  },
  {
   "cell_type": "code",
   "execution_count": 8,
   "id": "44d423b9-7f8d-486c-a19f-37f62fac77ed",
   "metadata": {},
   "outputs": [
    {
     "data": {
      "text/plain": [
       "0    United Kingdom\n",
       "1               NaN\n",
       "2               NaN\n",
       "3               NaN\n",
       "4    United Kingdom\n",
       "Name: Hometown, dtype: object"
      ]
     },
     "execution_count": 8,
     "metadata": {},
     "output_type": "execute_result"
    }
   ],
   "source": [
    "appended_data[\"Hometown\"].head()"
   ]
  },
  {
   "cell_type": "code",
   "execution_count": 9,
   "id": "e298e442-08b7-49df-931c-e4501d0d24c2",
   "metadata": {},
   "outputs": [],
   "source": [
    "# 美國各州轉為美國\n",
    "US_label = [\"Alabama\",\"Alaska\",\"Arizona\",\"Arkansas\",\"California\",\"Colorado\",\"Connecticut\",\n",
    "        \"Delaware\",\"Florida\",\"Georgia\",\"Hawaii\",\"Idaho\",\"Illinois\",\"Indiana\",\"Iowa\",\"Kansas\",\n",
    "          \"Kentucky\",\"Louisiana\",\"Maine\",\"Maryland\",\"Massachusetts\",\"Michigan\",\"Minnesota\",\n",
    "        \"Mississippi\",\"Missouri\",\"Montana\",\"Nebraska\",\"Nevada\",\"New Hampshire\",\"New Jersey\",\n",
    "          \"New Mexico\",\"New York\",\"North Carolina\",\"North Dakota\",\"Ohio\",\"Oklahoma\",\"Oregon\",\n",
    "        \"Pennsylvania\",\"Rhode Island\",\"South Carolina\",\"South Dakota\",\"Tennessee\",\"Texas\",\n",
    "        \"Utah\",\"Vermont\",\"Virginia\",\"Washington\",\"West Virginia\",\"Wisconsin\",\"Wyoming\"]\n",
    "appended_data.loc[appended_data[\"Hometown\"].isin(US_label), \"Hometown\"] = \"United State\""
   ]
  },
  {
   "cell_type": "code",
   "execution_count": 10,
   "id": "76264d08-8afc-49fa-9fc9-09cba1fa80a1",
   "metadata": {},
   "outputs": [],
   "source": [
    "# 國家列表\n",
    "rg_mas k= ['Oman', 'United Kingdom', 'Lebanon', 'Switzerland', 'Bulgaria',\n",
    "        'Germany', 'Netherlands', 'Israel', 'Slovenia', 'Qatar', 'Turkey',\n",
    "        'United Arab Emirates', 'Serbia', 'Poland', 'United States',\n",
    "        'Spain', 'Georgia', 'New Zealand', 'Cyprus', 'Iraq', 'Russia',\n",
    "        'Moldova', 'Jordan', 'Kuwait', 'Ukraine', 'Bosnia and Herzegovina',\n",
    "        'Croatia', 'Romania', 'Pakistan', 'Libya', 'Australia', 'Hungary',\n",
    "        'Austria', 'Iran', 'Denmark', 'Canada', 'Czech Republic', 'France',\n",
    "        'Ireland', 'Saudi Arabia', 'Bangladesh', 'Japan', 'Sweden',\n",
    "        'Luxembourg', 'Montenegro', 'Palestinian Territory', 'Thailand',\n",
    "        'China', 'North Macedonia', 'Kazakhstan', 'South Africa',\n",
    "        'Singapore', 'Estonia', 'Uzbekistan', 'Norway', 'Tunisia',\n",
    "        'Finland', 'Belgium', 'Tajikistan', 'Italy', 'Azerbaijan',\n",
    "        'Mongolia', 'Malaysia', 'Belarus', 'Mexico', 'Lithuania',\n",
    "        'Nigeria', 'Kyrgyzstan', 'Colombia', 'Россия', 'Украина', 'Greece',\n",
    "        'Morocco', 'India', 'Bahrain', 'Algeria', 'Latvia', 'Egypt',\n",
    "        'Portugal', 'Vietnam', 'Malta', 'Armenia', 'Jersey', 'Albania',\n",
    "        'Mozambique', 'Uganda', 'Peru', 'Senegal', 'Taiwan', 'Indonesia',\n",
    "        'Guatemala', 'Slovakia', 'Andorra', 'Sudan', 'Afghanistan',\n",
    "        'South Korea', 'Iceland', 'Hong Kong', 'Cameroon', 'Maldives',\n",
    "        'Brazil', 'Kosovo', 'Yemen', 'Ghana', 'Ethiopia', 'Chile',\n",
    "        'Angola', 'Argentina', 'Zimbabwe', 'Antigua & Barbuda',\n",
    "        'Abkhazia','Georgia', 'Kenya', 'Ecuador', 'Panama',\n",
    "        'Tanzania', 'Philippines', 'Djibouti', 'Somalia', 'Puerto Rico',\n",
    "        'Mauritius', 'Venezuela', 'UK Virgin Islands', 'Zambia', 'Bolivia',\n",
    "        'Seychelles', 'Democratic Republic of Congo', 'Uruguay',\n",
    "        'Sri Lanka', 'Jamaica', 'Guam', 'Myanmar', 'Rwanda', 'Malawi',\n",
    "        'Saint Kitts and Nevis', 'Mali', 'Syria', 'Costa Rica',\n",
    "        'Dominican Republic', 'Cambodia', 'Turkmenistan',\n",
    "        'Brunei Darussalam', 'Gabon', 'Macao', 'Namibia', 'Honduras',\n",
    "        'Botswana', 'Gambia', 'Nepal',\n",
    "        'Barbados', 'Isle of Man', 'US Virgin Islands', 'Gibraltar',\n",
    "        'Liechtenstein', 'United States Minor Outlying Islands',\n",
    "        'Laos', 'Guernsey', 'Bermuda', 'Monaco',\n",
    "        'Martinique', 'Madagascar', 'Benin', 'Faroe Islands',\n",
    "        'Sierra Leone', 'Saint Barthelemy', 'Cape Verde', 'Togo',\n",
    "        'Papua New Guinea', 'Vanuatu', 'Reunion', 'Bahamas',\n",
    "        'Cook Islands', 'Bonaire St Eustatius and Saba',\n",
    "        'Trinidad and Tobago', 'Burkina Faso', 'Mauritania',\n",
    "        'French Polynesia', 'Saint Martin', 'Paraguay', 'Guyana',\n",
    "        'Nicaragua', 'Solomon Islands', 'Central Africa Republic', 'Niger',\n",
    "        'South Georgia and the South Sandwich Islands', 'Chad',\n",
    "        'Northern Mariana Islands',\"0\"]     \n",
    "appended_data.fillna({'Hometown':\"0\"}, inplace=True)"
   ]
  },
  {
   "cell_type": "code",
   "execution_count": 11,
   "id": "ae5f20bc-7780-417c-8a84-fcdcbb139d47",
   "metadata": {},
   "outputs": [
    {
     "data": {
      "text/plain": [
       "0           United Kingdom\n",
       "1                        0\n",
       "2                        0\n",
       "3                        0\n",
       "4           United Kingdom\n",
       "                 ...      \n",
       "10499287    United Kingdom\n",
       "10499288                 0\n",
       "10499289                 0\n",
       "10499290    United Kingdom\n",
       "10499291                 0\n",
       "Name: Hometown, Length: 10499292, dtype: object"
      ]
     },
     "execution_count": 11,
     "metadata": {},
     "output_type": "execute_result"
    }
   ],
   "source": [
    "appended_data['Hometown']"
   ]
  },
  {
   "cell_type": "code",
   "execution_count": 12,
   "id": "688383e7-2ff5-49ce-9672-93efa1d14c60",
   "metadata": {},
   "outputs": [],
   "source": [
    "df = appended_data[\"Hometown\"].isin(rg_mask)"
   ]
  },
  {
   "cell_type": "code",
   "execution_count": 13,
   "id": "91a722d5-cff3-4d00-bd25-dd47ca79a4e1",
   "metadata": {},
   "outputs": [],
   "source": [
    "# 只留下符合條件的國家名\n",
    "df_final = appended_data.loc[df,:]"
   ]
  },
  {
   "cell_type": "code",
   "execution_count": 14,
   "id": "f3826fee-e912-45a8-bd3b-76933cbadfbf",
   "metadata": {},
   "outputs": [
    {
     "name": "stdout",
     "output_type": "stream",
     "text": [
      "<class 'pandas.core.frame.DataFrame'>\n",
      "Int64Index: 9295220 entries, 0 to 10499291\n",
      "Data columns (total 29 columns):\n",
      " #   Column                                           Dtype  \n",
      "---  ------                                           -----  \n",
      " 0   Hotel Name                                       object \n",
      " 1   total rating                                     object \n",
      " 2   Review Date                                      object \n",
      " 3   Stay Date                                        object \n",
      " 4   Trip Type                                        object \n",
      " 5   Language                                         object \n",
      " 6   Room Tip                                         object \n",
      " 7   Review Title                                     object \n",
      " 8   Review Rating                                    float64\n",
      " 9   Review Text                                      object \n",
      " 10  User Name                                        object \n",
      " 11  Hometown                                         object \n",
      " 12  [Value Stars                                     float64\n",
      " 13  [Location Stars                                  float64\n",
      " 14  [Service Stars                                   float64\n",
      " 15  [Cleanliness Stars                               float64\n",
      " 16  [Sleep Quality Stars                             float64\n",
      " 17  [Rooms Stars                                     float64\n",
      " 18  [Check in / front desk Stars                     float64\n",
      " 19  [Business service (e.g., internet access) Stars  float64\n",
      " 20  Hotel_City                                       object \n",
      " 21  Country                                          object \n",
      " 22  網址                                               object \n",
      " 23  [ur_question.prompt.47 Stars                     float64\n",
      " 24  [ur_question.prompt.14 Stars                     float64\n",
      " 25  [rd_userrating.prompt.12 Stars                   float64\n",
      " 26  [ur_question.prompt.11 Stars                     float64\n",
      " 27  [userrating.prompt.190 Stars                     float64\n",
      " 28  [ur_question.prompt.13 Stars                     float64\n",
      "dtypes: float64(15), object(14)\n",
      "memory usage: 2.1+ GB\n"
     ]
    }
   ],
   "source": [
    "df_final.info()"
   ]
  },
  {
   "cell_type": "code",
   "execution_count": 15,
   "id": "f5c3571b-934e-49d5-9765-bfc1a4524ad7",
   "metadata": {},
   "outputs": [
    {
     "name": "stderr",
     "output_type": "stream",
     "text": [
      "C:\\Users\\USER\\.conda\\envs\\threeSeven\\lib\\site-packages\\pandas\\core\\indexing.py:1817: SettingWithCopyWarning: \n",
      "A value is trying to be set on a copy of a slice from a DataFrame.\n",
      "Try using .loc[row_indexer,col_indexer] = value instead\n",
      "\n",
      "See the caveats in the documentation: https://pandas.pydata.org/pandas-docs/stable/user_guide/indexing.html#returning-a-view-versus-a-copy\n",
      "  self._setitem_single_column(loc, value, pi)\n"
     ]
    }
   ],
   "source": [
    "# 將各國國籍對應的五大洲\n",
    "Europe = ['France','United Kingdom','Germany', 'Belgium','Finland','Romania', 'Ireland','Iceland', 'Switzerland''Netherlands','Spain', 'Estonia','Portugal','Poland', 'Lithuania', 'Italy','Czech Republic', 'Russia', 'Sweden','Luxembourg','Slovakia','Austria','Serbia','Bulgaria', 'Ukraine','Turkey', 'Greece','Croatia', 'Hungary', 'Slovenia','Cyprus','Latvia','Malta','Jersey', 'Denmark','Georgia','Guernsey','Norway', 'Albania','Belarus','Monaco','Bosnia and Herzegovina','North Macedonia','Faroe Islands','Moldova','Montenegro',\"Switzerland\",\"Netherlands\",\"Gibraltar\"]\n",
    "Asia = ['Iran','Taiwan','Lebanon','Singapore','Indonesia','Bahrain','India', 'Syria','Malaysia', 'United Arab Emirates','Bangladesh','Iraq', 'Saudi Arabia','Malta','Israel','Hong Kong','Armenia','China', 'Vietnam','Japan','Laos','South Korea','Kazakhstan','Thailand','Qatar', 'Sri Lanka','Pakistan','Oman','Afghanistan','Azerbaijan','Philippines','Maldives','Myanmar','Nepal','Burkina Faso', 'Turkmenistan','Cambodia','Mongolia']\n",
    "Africa = ['South Africa','Jordan','Egypt','Angola','Algeria','Tunisia','Kenya','Nigeria','Morocco', 'Tanzania','Madagascar','Kuwait','Benin','Libya', 'Andorra','Uruguay','Sierra Leone', 'Mauritius', 'Cape Verde', 'Togo', 'Ghana', 'Reunion','Senegal','Uganda', 'Palestinian Territory', 'Mauritania', 'Gambia','Brunei Darussalam', 'French Polynesia','Zimbabwe','Kyrgyzstan', 'Mozambique', 'Kosovo', 'Macao','Abkhazia', 'Namibia', 'Uzbekistan', 'Paraguay','Gabon', 'Sudan', 'Guyana', 'Tajikistan','Ethiopia', 'Rwanda', 'Botswana', 'Cameroon','Seychelles', 'Sint Maarten', 'Antigua & Barbuda','Central Africa Republic', 'Niger', 'Chad','Northern Mariana Islands']\n",
    "America = ['United States','Canada','El Salvador','Brazil',\"Barbados\", 'Mexico','Costa Rica','Chile','Peru', 'Colombia','Argentina','Panama','Bermuda','United States Minor Outlying Islands','Ecuador','Martinique','Venezuela','Saint Barthelemy','Bahamas','Puerto Rico','Honduras','Dominican Republic','Guatemala','Bolivia','Nicaragua']\n",
    "Oceania = ['Australia','New Zealand','Papua New Guinea','Vanuatu']\n",
    "df_final.loc[df_final[\"Hometown\"].isin(Europe), \"Hometown\"] = \"Europe\"\n",
    "df_final.loc[df_final[\"Hometown\"].isin(Asia), \"Hometown\"] = \"Asia\"\n",
    "df_final.loc[df_final[\"Hometown\"].isin(Africa), \"Hometown\"] = \"Africa\"\n",
    "df_final.loc[df_final[\"Hometown\"].isin(America), \"Hometown\"] = \"America\"\n",
    "df_final.loc[df_final[\"Hometown\"].isin(Oceania), \"Hometown\"] = \"Oceania\""
   ]
  },
  {
   "cell_type": "code",
   "execution_count": 16,
   "id": "afad49ae-103c-4f3c-b75b-9220b9f94b13",
   "metadata": {},
   "outputs": [
    {
     "data": {
      "text/plain": [
       "0    Europe\n",
       "1         0\n",
       "2         0\n",
       "3         0\n",
       "4    Europe\n",
       "Name: Hometown, dtype: object"
      ]
     },
     "execution_count": 16,
     "metadata": {},
     "output_type": "execute_result"
    }
   ],
   "source": [
    "df_final[\"Hometown\"].head()"
   ]
  },
  {
   "cell_type": "markdown",
   "id": "589250a2-d29d-4820-968c-71af0c8b3800",
   "metadata": {},
   "source": [
    "#### 除了評分以及重要特徵缺失值補0外，其他一律刪除"
   ]
  },
  {
   "cell_type": "code",
   "execution_count": 17,
   "id": "3dfd0c7b-bb24-496a-bb03-0e4f23379620",
   "metadata": {},
   "outputs": [
    {
     "name": "stdout",
     "output_type": "stream",
     "text": [
      "<class 'pandas.core.frame.DataFrame'>\n",
      "Int64Index: 9295220 entries, 0 to 10499291\n",
      "Data columns (total 29 columns):\n",
      " #   Column                                           Dtype  \n",
      "---  ------                                           -----  \n",
      " 0   Hotel Name                                       object \n",
      " 1   total rating                                     object \n",
      " 2   Review Date                                      object \n",
      " 3   Stay Date                                        object \n",
      " 4   Trip Type                                        object \n",
      " 5   Language                                         object \n",
      " 6   Room Tip                                         object \n",
      " 7   Review Title                                     object \n",
      " 8   Review Rating                                    float64\n",
      " 9   Review Text                                      object \n",
      " 10  User Name                                        object \n",
      " 11  Hometown                                         object \n",
      " 12  [Value Stars                                     float64\n",
      " 13  [Location Stars                                  float64\n",
      " 14  [Service Stars                                   float64\n",
      " 15  [Cleanliness Stars                               float64\n",
      " 16  [Sleep Quality Stars                             float64\n",
      " 17  [Rooms Stars                                     float64\n",
      " 18  [Check in / front desk Stars                     float64\n",
      " 19  [Business service (e.g., internet access) Stars  float64\n",
      " 20  Hotel_City                                       object \n",
      " 21  Country                                          object \n",
      " 22  網址                                               object \n",
      " 23  [ur_question.prompt.47 Stars                     float64\n",
      " 24  [ur_question.prompt.14 Stars                     float64\n",
      " 25  [rd_userrating.prompt.12 Stars                   float64\n",
      " 26  [ur_question.prompt.11 Stars                     float64\n",
      " 27  [userrating.prompt.190 Stars                     float64\n",
      " 28  [ur_question.prompt.13 Stars                     float64\n",
      "dtypes: float64(15), object(14)\n",
      "memory usage: 2.1+ GB\n"
     ]
    }
   ],
   "source": [
    "df_final.info()"
   ]
  },
  {
   "cell_type": "code",
   "execution_count": 18,
   "id": "3253e5a7-8e19-47f4-ab77-c514e6163474",
   "metadata": {},
   "outputs": [
    {
     "name": "stderr",
     "output_type": "stream",
     "text": [
      "C:\\Users\\USER\\.conda\\envs\\threeSeven\\lib\\site-packages\\pandas\\core\\frame.py:4913: SettingWithCopyWarning: \n",
      "A value is trying to be set on a copy of a slice from a DataFrame\n",
      "\n",
      "See the caveats in the documentation: https://pandas.pydata.org/pandas-docs/stable/user_guide/indexing.html#returning-a-view-versus-a-copy\n",
      "  errors=errors,\n"
     ]
    }
   ],
   "source": [
    "df_final.drop(columns=[\"Review Date\",\"Room Tip\",\"[ur_question.prompt.13 Stars\",\"[userrating.prompt.190 Stars\",\"[ur_question.prompt.11 Stars\",\"[rd_userrating.prompt.12 Stars\",\"[ur_question.prompt.14 Stars\",\"[ur_question.prompt.47 Stars\",\"網址\",\"[Business service (e.g., internet access) Stars\",\"[Check in / front desk Stars\",\"Language\"], inplace=True)"
   ]
  },
  {
   "cell_type": "code",
   "execution_count": 19,
   "id": "1e5c1eab-9f91-4413-ba07-1f8895d1be27",
   "metadata": {},
   "outputs": [
    {
     "name": "stdout",
     "output_type": "stream",
     "text": [
      "<class 'pandas.core.frame.DataFrame'>\n",
      "Int64Index: 9295220 entries, 0 to 10499291\n",
      "Data columns (total 17 columns):\n",
      " #   Column                Dtype  \n",
      "---  ------                -----  \n",
      " 0   Hotel Name            object \n",
      " 1   total rating          object \n",
      " 2   Stay Date             object \n",
      " 3   Trip Type             object \n",
      " 4   Review Title          object \n",
      " 5   Review Rating         float64\n",
      " 6   Review Text           object \n",
      " 7   User Name             object \n",
      " 8   Hometown              object \n",
      " 9   [Value Stars          float64\n",
      " 10  [Location Stars       float64\n",
      " 11  [Service Stars        float64\n",
      " 12  [Cleanliness Stars    float64\n",
      " 13  [Sleep Quality Stars  float64\n",
      " 14  [Rooms Stars          float64\n",
      " 15  Hotel_City            object \n",
      " 16  Country               object \n",
      "dtypes: float64(7), object(10)\n",
      "memory usage: 1.2+ GB\n"
     ]
    }
   ],
   "source": [
    "df_final.info()"
   ]
  },
  {
   "cell_type": "code",
   "execution_count": 20,
   "id": "9607953a-605f-437b-a20a-98febc451ccf",
   "metadata": {},
   "outputs": [],
   "source": [
    "df_final.columns = ['Hotel_Name', 'Average_Rating', 'Stay_Date', 'Trip_Type', 'Review_Title', 'Total_Rating', 'Review_Text', 'Reviewer_Name', 'Reviewer_Region', 'Value', 'Location', 'Service', 'Cleanliness', 'Sleep_Quality', 'Room', 'Hotel_City', 'Country']"
   ]
  },
  {
   "cell_type": "code",
   "execution_count": 21,
   "id": "fb8fb285-4d8b-4b1a-9f89-107538f86658",
   "metadata": {},
   "outputs": [
    {
     "data": {
      "text/plain": [
       "Hotel_Name            9104\n",
       "Average_Rating       16405\n",
       "Stay_Date             9119\n",
       "Trip_Type             9117\n",
       "Review_Title          9204\n",
       "Total_Rating          9117\n",
       "Review_Text           9117\n",
       "Reviewer_Name        12606\n",
       "Reviewer_Region          0\n",
       "Value              4867123\n",
       "Location           5028570\n",
       "Service            3195102\n",
       "Cleanliness        4861973\n",
       "Sleep_Quality      5543674\n",
       "Room               5002295\n",
       "Hotel_City               0\n",
       "Country                  0\n",
       "dtype: int64"
      ]
     },
     "execution_count": 21,
     "metadata": {},
     "output_type": "execute_result"
    }
   ],
   "source": [
    "df_final.isnull().sum()"
   ]
  },
  {
   "cell_type": "code",
   "execution_count": 22,
   "id": "9aad4de1-788b-4c13-ab6d-ad7a52440988",
   "metadata": {},
   "outputs": [],
   "source": [
    "df_final = df_final.fillna({'Value':0,'Service':0,'Sleep_Quality':0,'Room':0,'Location':0,'Cleanliness':0,'Reviewer_Region':0})"
   ]
  },
  {
   "cell_type": "code",
   "execution_count": 23,
   "id": "758d41ec-95e1-447c-bd58-e9ed326d2bb6",
   "metadata": {},
   "outputs": [
    {
     "data": {
      "text/plain": [
       "Hotel_Name          9104\n",
       "Average_Rating     16405\n",
       "Stay_Date           9119\n",
       "Trip_Type           9117\n",
       "Review_Title        9204\n",
       "Total_Rating        9117\n",
       "Review_Text         9117\n",
       "Reviewer_Name      12606\n",
       "Reviewer_Region        0\n",
       "Value                  0\n",
       "Location               0\n",
       "Service                0\n",
       "Cleanliness            0\n",
       "Sleep_Quality          0\n",
       "Room                   0\n",
       "Hotel_City             0\n",
       "Country                0\n",
       "dtype: int64"
      ]
     },
     "execution_count": 23,
     "metadata": {},
     "output_type": "execute_result"
    }
   ],
   "source": [
    "df_final.isnull().sum()"
   ]
  },
  {
   "cell_type": "code",
   "execution_count": 24,
   "id": "61e364f5-4a65-4011-9966-c03eac76e6b9",
   "metadata": {},
   "outputs": [],
   "source": [
    "df_final.dropna(inplace=True)"
   ]
  },
  {
   "cell_type": "code",
   "execution_count": 25,
   "id": "fb04f8e8-7da5-4e45-abe7-6945110dc816",
   "metadata": {},
   "outputs": [],
   "source": [
    "df_final.to_csv(\"Tripadvisor_final.csv\",index=True)"
   ]
  }
 ],
 "metadata": {
  "kernelspec": {
   "display_name": "Python 3 (ipykernel)",
   "language": "python",
   "name": "python3"
  },
  "language_info": {
   "codemirror_mode": {
    "name": "ipython",
    "version": 3
   },
   "file_extension": ".py",
   "mimetype": "text/x-python",
   "name": "python",
   "nbconvert_exporter": "python",
   "pygments_lexer": "ipython3",
   "version": "3.7.13"
  }
 },
 "nbformat": 4,
 "nbformat_minor": 5
}
