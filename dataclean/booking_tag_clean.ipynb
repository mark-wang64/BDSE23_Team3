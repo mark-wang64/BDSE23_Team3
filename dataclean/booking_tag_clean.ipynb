{
 "cells": [
  {
   "cell_type": "code",
   "execution_count": 10,
   "id": "395d05b8-cded-46e5-9ff6-0b9948457fad",
   "metadata": {},
   "outputs": [],
   "source": [
    "import pandas as pd"
   ]
  },
  {
   "cell_type": "code",
   "execution_count": 11,
   "id": "3137893f-2c09-48bb-ba63-c64e6163e7c5",
   "metadata": {},
   "outputs": [],
   "source": [
    "def in_method(given, sub):\n",
    "    return sub in given\n",
    "def onehot(x):\n",
    "    df.loc[(df[x] == True), x] = 1\n",
    "    df.loc[(df[x] == False), x] = 0\n"
   ]
  },
  {
   "cell_type": "code",
   "execution_count": 12,
   "id": "4bb390cb-18c9-49a7-b9e2-6a6b72741265",
   "metadata": {},
   "outputs": [],
   "source": [
    "df=pd.read_csv(\"second.csv\")"
   ]
  },
  {
   "cell_type": "code",
   "execution_count": 13,
   "id": "4ce4f94c-34db-40f9-b570-42b3a5d2b91f",
   "metadata": {},
   "outputs": [
    {
     "name": "stdout",
     "output_type": "stream",
     "text": [
      "<class 'pandas.core.frame.DataFrame'>\n",
      "RangeIndex: 1315974 entries, 0 to 1315973\n",
      "Data columns (total 10 columns):\n",
      " #   Column           Non-Null Count    Dtype \n",
      "---  ------           --------------    ----- \n",
      " 0   Reviewer_Name    1315973 non-null  object\n",
      " 1   Reviewer_Region  1315585 non-null  object\n",
      " 2   Total_Rating     1315974 non-null  int64 \n",
      " 3   Review_Title     1315974 non-null  object\n",
      " 4   Stay_Date        1315974 non-null  int64 \n",
      " 5   Tags             1315974 non-null  object\n",
      " 6   Hotel_City       1315974 non-null  object\n",
      " 7   Country          1315974 non-null  object\n",
      " 8   Review_Tag       1315974 non-null  object\n",
      " 9   Review_Text      1315974 non-null  object\n",
      "dtypes: int64(2), object(8)\n",
      "memory usage: 100.4+ MB\n"
     ]
    }
   ],
   "source": [
    "df.info()"
   ]
  },
  {
   "cell_type": "code",
   "execution_count": 14,
   "id": "69473ab4-39c0-4840-b8fa-d92c1997dfcc",
   "metadata": {},
   "outputs": [],
   "source": [
    "Type_list=[\"Trip_Type_FRIENDS\",\"Trip_Type_BUSINESS\",\"Trip_Type_COUPLES\",\"Trip_Type_FAMILY\",\"Trip_Type_SOLO\"]\n",
    "Leisure_trip=[]\n",
    "Business_trip=[]\n",
    "Couple=[]\n",
    "Family=[]\n",
    "Solo=[]\n",
    "for i in range(0,len(df)):\n",
    "    Leisure_trip.append(in_method(df[\"Tags\"][i],\"Leisure trip\"))\n",
    "    Business_trip.append(in_method(df[\"Tags\"][i],\"Business trip\"))\n",
    "    Couple.append(in_method(df[\"Tags\"][i],\"Couple\"))\n",
    "    Family.append(in_method(df[\"Tags\"][i],\"Family with young children\")) \n",
    "    Solo.append(in_method(df[\"Tags\"][i],\"Solo traveller\"))\n",
    "df[\"Trip_Type_FRIENDS\"] = Leisure_trip\n",
    "df[\"Trip_Type_BUSINESS\"] = Business_trip\n",
    "df[\"Trip_Type_COUPLES\"] = Couple\n",
    "df[\"Trip_Type_FAMILY\"] = Family\n",
    "df[\"Trip_Type_SOLO\"] = Solo"
   ]
  },
  {
   "cell_type": "code",
   "execution_count": 15,
   "id": "f49a89af-faa2-423c-bdaf-afcd520ceea8",
   "metadata": {},
   "outputs": [
    {
     "name": "stdout",
     "output_type": "stream",
     "text": [
      "<class 'pandas.core.frame.DataFrame'>\n",
      "RangeIndex: 1315974 entries, 0 to 1315973\n",
      "Data columns (total 15 columns):\n",
      " #   Column              Non-Null Count    Dtype \n",
      "---  ------              --------------    ----- \n",
      " 0   Reviewer_Name       1315973 non-null  object\n",
      " 1   Reviewer_Region     1315585 non-null  object\n",
      " 2   Total_Rating        1315974 non-null  int64 \n",
      " 3   Review_Title        1315974 non-null  object\n",
      " 4   Stay_Date           1315974 non-null  int64 \n",
      " 5   Tags                1315974 non-null  object\n",
      " 6   Hotel_City          1315974 non-null  object\n",
      " 7   Country             1315974 non-null  object\n",
      " 8   Review_Tag          1315974 non-null  object\n",
      " 9   Review_Text         1315974 non-null  object\n",
      " 10  Trip_Type_FRIENDS   1315974 non-null  bool  \n",
      " 11  Trip_Type_BUSINESS  1315974 non-null  bool  \n",
      " 12  Trip_Type_COUPLES   1315974 non-null  bool  \n",
      " 13  Trip_Type_FAMILY    1315974 non-null  bool  \n",
      " 14  Trip_Type_SOLO      1315974 non-null  bool  \n",
      "dtypes: bool(5), int64(2), object(8)\n",
      "memory usage: 106.7+ MB\n"
     ]
    }
   ],
   "source": [
    "df.info()"
   ]
  },
  {
   "cell_type": "code",
   "execution_count": 16,
   "id": "b4754d07-f5db-4993-9ff6-7fa78574be5a",
   "metadata": {},
   "outputs": [],
   "source": [
    "df.dropna(inplace=True)"
   ]
  },
  {
   "cell_type": "code",
   "execution_count": 17,
   "id": "a06584f1-541f-4139-a5f2-1e4e6a20abcd",
   "metadata": {},
   "outputs": [
    {
     "name": "stdout",
     "output_type": "stream",
     "text": [
      "<class 'pandas.core.frame.DataFrame'>\n",
      "Int64Index: 1315584 entries, 0 to 1315973\n",
      "Data columns (total 15 columns):\n",
      " #   Column              Non-Null Count    Dtype \n",
      "---  ------              --------------    ----- \n",
      " 0   Reviewer_Name       1315584 non-null  object\n",
      " 1   Reviewer_Region     1315584 non-null  object\n",
      " 2   Total_Rating        1315584 non-null  int64 \n",
      " 3   Review_Title        1315584 non-null  object\n",
      " 4   Stay_Date           1315584 non-null  int64 \n",
      " 5   Tags                1315584 non-null  object\n",
      " 6   Hotel_City          1315584 non-null  object\n",
      " 7   Country             1315584 non-null  object\n",
      " 8   Review_Tag          1315584 non-null  object\n",
      " 9   Review_Text         1315584 non-null  object\n",
      " 10  Trip_Type_FRIENDS   1315584 non-null  bool  \n",
      " 11  Trip_Type_BUSINESS  1315584 non-null  bool  \n",
      " 12  Trip_Type_COUPLES   1315584 non-null  bool  \n",
      " 13  Trip_Type_FAMILY    1315584 non-null  bool  \n",
      " 14  Trip_Type_SOLO      1315584 non-null  bool  \n",
      "dtypes: bool(5), int64(2), object(8)\n",
      "memory usage: 116.7+ MB\n"
     ]
    }
   ],
   "source": [
    "df.info()"
   ]
  },
  {
   "cell_type": "code",
   "execution_count": 18,
   "id": "f0433045-9016-4250-9c90-c9aeb8f280d1",
   "metadata": {},
   "outputs": [],
   "source": [
    "df.to_csv(\"Booking_Final.csv\",index=False)"
   ]
  },
  {
   "cell_type": "code",
   "execution_count": 19,
   "id": "1c4499ac-d4a9-40ba-b758-97f5171bbf69",
   "metadata": {},
   "outputs": [
    {
     "name": "stderr",
     "output_type": "stream",
     "text": [
      "C:\\Users\\Student\\anaconda3\\lib\\site-packages\\IPython\\core\\interactiveshell.py:3444: DtypeWarning: Columns (2) have mixed types.Specify dtype option on import or set low_memory=False.\n",
      "  exec(code_obj, self.user_global_ns, self.user_ns)\n"
     ]
    }
   ],
   "source": [
    "df2=pd.read_csv(r\"C:\\Users\\Student\\Desktop\\Tripadvisor_final.csv\")"
   ]
  },
  {
   "cell_type": "code",
   "execution_count": 26,
   "id": "44413d78-8597-4df8-b82d-cd588fc563f5",
   "metadata": {},
   "outputs": [
    {
     "ename": "NameError",
     "evalue": "name 'inner' is not defined",
     "output_type": "error",
     "traceback": [
      "\u001b[1;31m---------------------------------------------------------------------------\u001b[0m",
      "\u001b[1;31mNameError\u001b[0m                                 Traceback (most recent call last)",
      "\u001b[1;32m~\\AppData\\Local\\Temp/ipykernel_4592/2353312271.py\u001b[0m in \u001b[0;36m<module>\u001b[1;34m\u001b[0m\n\u001b[1;32m----> 1\u001b[1;33m \u001b[0mresult\u001b[0m \u001b[1;33m=\u001b[0m \u001b[0mpd\u001b[0m\u001b[1;33m.\u001b[0m\u001b[0mconcat\u001b[0m\u001b[1;33m(\u001b[0m\u001b[1;33m[\u001b[0m\u001b[0mdf2\u001b[0m\u001b[1;33m,\u001b[0m \u001b[0mdf\u001b[0m\u001b[1;33m]\u001b[0m\u001b[1;33m,\u001b[0m\u001b[0mjoin\u001b[0m\u001b[1;33m=\u001b[0m\u001b[0minner\u001b[0m\u001b[1;33m)\u001b[0m\u001b[1;33m\u001b[0m\u001b[1;33m\u001b[0m\u001b[0m\n\u001b[0m",
      "\u001b[1;31mNameError\u001b[0m: name 'inner' is not defined"
     ]
    }
   ],
   "source": [
    "result = pd.concat([df2, df],join=inner)"
   ]
  },
  {
   "cell_type": "code",
   "execution_count": 22,
   "id": "29e7a960-1ef3-4017-b390-2d0de1e9e0e5",
   "metadata": {},
   "outputs": [
    {
     "data": {
      "text/html": [
       "<div>\n",
       "<style scoped>\n",
       "    .dataframe tbody tr th:only-of-type {\n",
       "        vertical-align: middle;\n",
       "    }\n",
       "\n",
       "    .dataframe tbody tr th {\n",
       "        vertical-align: top;\n",
       "    }\n",
       "\n",
       "    .dataframe thead th {\n",
       "        text-align: right;\n",
       "    }\n",
       "</style>\n",
       "<table border=\"1\" class=\"dataframe\">\n",
       "  <thead>\n",
       "    <tr style=\"text-align: right;\">\n",
       "      <th></th>\n",
       "      <th>Unnamed: 0</th>\n",
       "      <th>Hotel_Name</th>\n",
       "      <th>Average_Rating</th>\n",
       "      <th>Stay_Date</th>\n",
       "      <th>Trip_Type</th>\n",
       "      <th>Review_Title</th>\n",
       "      <th>Total_Rating</th>\n",
       "      <th>Review_Text</th>\n",
       "      <th>Reviewer_Name</th>\n",
       "      <th>Reviewer_Region</th>\n",
       "      <th>...</th>\n",
       "      <th>Cleanliness</th>\n",
       "      <th>Hotel_City</th>\n",
       "      <th>Country</th>\n",
       "      <th>Trip_Type_BUSINESS</th>\n",
       "      <th>Trip_Type_COUPLES</th>\n",
       "      <th>Trip_Type_FAMILY</th>\n",
       "      <th>Trip_Type_FRIENDS</th>\n",
       "      <th>Trip_Type_SOLO</th>\n",
       "      <th>Tags</th>\n",
       "      <th>Review_Tag</th>\n",
       "    </tr>\n",
       "  </thead>\n",
       "  <tbody>\n",
       "    <tr>\n",
       "      <th>0</th>\n",
       "      <td>0.0</td>\n",
       "      <td>Delfino Blu Wellness Boutique Hotel</td>\n",
       "      <td>5.0</td>\n",
       "      <td>2021-09-30</td>\n",
       "      <td>COUPLES</td>\n",
       "      <td>A small slice of paradise</td>\n",
       "      <td>5.0</td>\n",
       "      <td>We stayed for 7 nights at the end of September...</td>\n",
       "      <td>Floyd @ Cambridge UK</td>\n",
       "      <td>Europe</td>\n",
       "      <td>...</td>\n",
       "      <td>0.0</td>\n",
       "      <td>Dhermi</td>\n",
       "      <td>Albania</td>\n",
       "      <td>0</td>\n",
       "      <td>1</td>\n",
       "      <td>0</td>\n",
       "      <td>0</td>\n",
       "      <td>0</td>\n",
       "      <td>NaN</td>\n",
       "      <td>NaN</td>\n",
       "    </tr>\n",
       "    <tr>\n",
       "      <th>1</th>\n",
       "      <td>1.0</td>\n",
       "      <td>Delfino Blu Wellness Boutique Hotel</td>\n",
       "      <td>5.0</td>\n",
       "      <td>2021-09-30</td>\n",
       "      <td>0</td>\n",
       "      <td>A truly wonderful experience</td>\n",
       "      <td>5.0</td>\n",
       "      <td>We were looking for a relaxing week in the sun...</td>\n",
       "      <td>Liz A</td>\n",
       "      <td>0</td>\n",
       "      <td>...</td>\n",
       "      <td>0.0</td>\n",
       "      <td>Dhermi</td>\n",
       "      <td>Albania</td>\n",
       "      <td>0</td>\n",
       "      <td>0</td>\n",
       "      <td>0</td>\n",
       "      <td>0</td>\n",
       "      <td>0</td>\n",
       "      <td>NaN</td>\n",
       "      <td>NaN</td>\n",
       "    </tr>\n",
       "    <tr>\n",
       "      <th>2</th>\n",
       "      <td>2.0</td>\n",
       "      <td>Delfino Blu Wellness Boutique Hotel</td>\n",
       "      <td>5.0</td>\n",
       "      <td>2021-08-31</td>\n",
       "      <td>COUPLES</td>\n",
       "      <td>Great Boutique Experience</td>\n",
       "      <td>5.0</td>\n",
       "      <td>We had been considering a trip here for some t...</td>\n",
       "      <td>Herts_foodie2</td>\n",
       "      <td>0</td>\n",
       "      <td>...</td>\n",
       "      <td>0.0</td>\n",
       "      <td>Dhermi</td>\n",
       "      <td>Albania</td>\n",
       "      <td>0</td>\n",
       "      <td>1</td>\n",
       "      <td>0</td>\n",
       "      <td>0</td>\n",
       "      <td>0</td>\n",
       "      <td>NaN</td>\n",
       "      <td>NaN</td>\n",
       "    </tr>\n",
       "    <tr>\n",
       "      <th>3</th>\n",
       "      <td>3.0</td>\n",
       "      <td>Delfino Blu Wellness Boutique Hotel</td>\n",
       "      <td>5.0</td>\n",
       "      <td>2021-08-31</td>\n",
       "      <td>0</td>\n",
       "      <td>Felt truly looked after in welcoming boutique ...</td>\n",
       "      <td>5.0</td>\n",
       "      <td>The wonderful staff team quickly get to know a...</td>\n",
       "      <td>Liverpool Logs</td>\n",
       "      <td>0</td>\n",
       "      <td>...</td>\n",
       "      <td>5.0</td>\n",
       "      <td>Dhermi</td>\n",
       "      <td>Albania</td>\n",
       "      <td>0</td>\n",
       "      <td>0</td>\n",
       "      <td>0</td>\n",
       "      <td>0</td>\n",
       "      <td>0</td>\n",
       "      <td>NaN</td>\n",
       "      <td>NaN</td>\n",
       "    </tr>\n",
       "    <tr>\n",
       "      <th>4</th>\n",
       "      <td>4.0</td>\n",
       "      <td>Delfino Blu Wellness Boutique Hotel</td>\n",
       "      <td>5.0</td>\n",
       "      <td>2021-08-31</td>\n",
       "      <td>COUPLES</td>\n",
       "      <td>Ultimate relaxation at beautiful Delfino Blu</td>\n",
       "      <td>5.0</td>\n",
       "      <td>We just LOVED Delfino Blu, a little bit of Cor...</td>\n",
       "      <td>Peter Cummins</td>\n",
       "      <td>Europe</td>\n",
       "      <td>...</td>\n",
       "      <td>0.0</td>\n",
       "      <td>Dhermi</td>\n",
       "      <td>Albania</td>\n",
       "      <td>0</td>\n",
       "      <td>1</td>\n",
       "      <td>0</td>\n",
       "      <td>0</td>\n",
       "      <td>0</td>\n",
       "      <td>NaN</td>\n",
       "      <td>NaN</td>\n",
       "    </tr>\n",
       "  </tbody>\n",
       "</table>\n",
       "<p>5 rows × 25 columns</p>\n",
       "</div>"
      ],
      "text/plain": [
       "   Unnamed: 0                           Hotel_Name Average_Rating   Stay_Date  \\\n",
       "0         0.0  Delfino Blu Wellness Boutique Hotel            5.0  2021-09-30   \n",
       "1         1.0  Delfino Blu Wellness Boutique Hotel            5.0  2021-09-30   \n",
       "2         2.0  Delfino Blu Wellness Boutique Hotel            5.0  2021-08-31   \n",
       "3         3.0  Delfino Blu Wellness Boutique Hotel            5.0  2021-08-31   \n",
       "4         4.0  Delfino Blu Wellness Boutique Hotel            5.0  2021-08-31   \n",
       "\n",
       "  Trip_Type                                       Review_Title  Total_Rating  \\\n",
       "0   COUPLES                          A small slice of paradise           5.0   \n",
       "1         0                       A truly wonderful experience           5.0   \n",
       "2   COUPLES                          Great Boutique Experience           5.0   \n",
       "3         0  Felt truly looked after in welcoming boutique ...           5.0   \n",
       "4   COUPLES       Ultimate relaxation at beautiful Delfino Blu           5.0   \n",
       "\n",
       "                                         Review_Text         Reviewer_Name  \\\n",
       "0  We stayed for 7 nights at the end of September...  Floyd @ Cambridge UK   \n",
       "1  We were looking for a relaxing week in the sun...                 Liz A   \n",
       "2  We had been considering a trip here for some t...         Herts_foodie2   \n",
       "3  The wonderful staff team quickly get to know a...        Liverpool Logs   \n",
       "4  We just LOVED Delfino Blu, a little bit of Cor...         Peter Cummins   \n",
       "\n",
       "  Reviewer_Region  ...  Cleanliness  Hotel_City  Country  Trip_Type_BUSINESS  \\\n",
       "0          Europe  ...          0.0      Dhermi  Albania                   0   \n",
       "1               0  ...          0.0      Dhermi  Albania                   0   \n",
       "2               0  ...          0.0      Dhermi  Albania                   0   \n",
       "3               0  ...          5.0      Dhermi  Albania                   0   \n",
       "4          Europe  ...          0.0      Dhermi  Albania                   0   \n",
       "\n",
       "   Trip_Type_COUPLES  Trip_Type_FAMILY Trip_Type_FRIENDS Trip_Type_SOLO Tags  \\\n",
       "0                  1                 0                 0              0  NaN   \n",
       "1                  0                 0                 0              0  NaN   \n",
       "2                  1                 0                 0              0  NaN   \n",
       "3                  0                 0                 0              0  NaN   \n",
       "4                  1                 0                 0              0  NaN   \n",
       "\n",
       "  Review_Tag  \n",
       "0        NaN  \n",
       "1        NaN  \n",
       "2        NaN  \n",
       "3        NaN  \n",
       "4        NaN  \n",
       "\n",
       "[5 rows x 25 columns]"
      ]
     },
     "execution_count": 22,
     "metadata": {},
     "output_type": "execute_result"
    }
   ],
   "source": [
    "result.head()"
   ]
  },
  {
   "cell_type": "code",
   "execution_count": 23,
   "id": "01de9b1e-aeca-4ed5-8cdd-65cbb973f2ef",
   "metadata": {},
   "outputs": [],
   "source": [
    "result.drop(columns=\"Unnamed: 0\", inplace=True)"
   ]
  },
  {
   "cell_type": "code",
   "execution_count": 24,
   "id": "51f7fb72-3192-455c-a65c-c46770904be0",
   "metadata": {},
   "outputs": [
    {
     "name": "stdout",
     "output_type": "stream",
     "text": [
      "<class 'pandas.core.frame.DataFrame'>\n",
      "Int64Index: 11515526 entries, 0 to 1315973\n",
      "Data columns (total 24 columns):\n",
      " #   Column              Dtype  \n",
      "---  ------              -----  \n",
      " 0   Hotel_Name          object \n",
      " 1   Average_Rating      object \n",
      " 2   Stay_Date           object \n",
      " 3   Trip_Type           object \n",
      " 4   Review_Title        object \n",
      " 5   Total_Rating        float64\n",
      " 6   Review_Text         object \n",
      " 7   Reviewer_Name       object \n",
      " 8   Reviewer_Region     object \n",
      " 9   Value               float64\n",
      " 10  Service             float64\n",
      " 11  Sleep_Quality       float64\n",
      " 12  Room                float64\n",
      " 13  Location            float64\n",
      " 14  Cleanliness         float64\n",
      " 15  Hotel_City          object \n",
      " 16  Country             object \n",
      " 17  Trip_Type_BUSINESS  object \n",
      " 18  Trip_Type_COUPLES   object \n",
      " 19  Trip_Type_FAMILY    object \n",
      " 20  Trip_Type_FRIENDS   object \n",
      " 21  Trip_Type_SOLO      object \n",
      " 22  Tags                object \n",
      " 23  Review_Tag          object \n",
      "dtypes: float64(7), object(17)\n",
      "memory usage: 2.1+ GB\n"
     ]
    }
   ],
   "source": [
    "result.info()"
   ]
  },
  {
   "cell_type": "code",
   "execution_count": 25,
   "id": "64f89ea0-1eef-46cc-8784-b40d1ccd9419",
   "metadata": {},
   "outputs": [
    {
     "data": {
      "text/plain": [
       "Hotel_Name             1315584\n",
       "Average_Rating         1315584\n",
       "Stay_Date                    0\n",
       "Trip_Type              1315584\n",
       "Review_Title                 0\n",
       "Total_Rating                 0\n",
       "Review_Text                  0\n",
       "Reviewer_Name                0\n",
       "Reviewer_Region              0\n",
       "Value                  1315584\n",
       "Service                1315584\n",
       "Sleep_Quality          1315584\n",
       "Room                   1315584\n",
       "Location               1315584\n",
       "Cleanliness            1315584\n",
       "Hotel_City                   0\n",
       "Country                      0\n",
       "Trip_Type_BUSINESS           0\n",
       "Trip_Type_COUPLES            0\n",
       "Trip_Type_FAMILY             0\n",
       "Trip_Type_FRIENDS            0\n",
       "Trip_Type_SOLO               0\n",
       "Tags                  10199942\n",
       "Review_Tag            10199942\n",
       "dtype: int64"
      ]
     },
     "execution_count": 25,
     "metadata": {},
     "output_type": "execute_result"
    }
   ],
   "source": [
    "result.isnull().sum()"
   ]
  }
 ],
 "metadata": {
  "colab": {
   "collapsed_sections": [],
   "name": "datacleaning.ipynb",
   "provenance": []
  },
  "kernelspec": {
   "display_name": "Python 3 (ipykernel)",
   "language": "python",
   "name": "python3"
  },
  "language_info": {
   "codemirror_mode": {
    "name": "ipython",
    "version": 3
   },
   "file_extension": ".py",
   "mimetype": "text/x-python",
   "name": "python",
   "nbconvert_exporter": "python",
   "pygments_lexer": "ipython3",
   "version": "3.9.7"
  }
 },
 "nbformat": 4,
 "nbformat_minor": 5
}
