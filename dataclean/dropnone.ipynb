{
 "cells": [
  {
   "cell_type": "code",
   "execution_count": null,
   "id": "6f55659c-e6f6-4e93-bc8d-b1a5696cbca3",
   "metadata": {},
   "outputs": [],
   "source": [
    "import pandas as pd\n",
    "path=input()\n",
    "df = pd.read_csv(path,dtype=str,on_bad_lines='skip',sep=\",\",index_col=None,encoding=\"utf-8\")\n",
    "indexNames = df[ df['Trip_Type'] == 'NONE' or df['Trip_Type'] == '[]' ].index\n",
    "df.drop(indexNames , inplace=True)\n",
    "df.to_csv(\"result.csv\",sep=\",\",encoding=\"utf-8\",index=False)"
   ]
  }
 ],
 "metadata": {
  "kernelspec": {
   "display_name": "Python 3 (ipykernel)",
   "language": "python",
   "name": "python3"
  },
  "language_info": {
   "codemirror_mode": {
    "name": "ipython",
    "version": 3
   },
   "file_extension": ".py",
   "mimetype": "text/x-python",
   "name": "python",
   "nbconvert_exporter": "python",
   "pygments_lexer": "ipython3",
   "version": "3.9.8"
  }
 },
 "nbformat": 4,
 "nbformat_minor": 5
}
